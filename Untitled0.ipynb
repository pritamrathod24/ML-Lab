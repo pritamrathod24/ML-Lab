{
  "nbformat": 4,
  "nbformat_minor": 0,
  "metadata": {
    "colab": {
      "provenance": []
    },
    "kernelspec": {
      "name": "python3",
      "display_name": "Python 3"
    },
    "language_info": {
      "name": "python"
    }
  },
  "cells": [
    {
      "cell_type": "markdown",
      "source": [
        "Table of any number"
      ],
      "metadata": {
        "id": "Hp9YVLl4GGBU"
      }
    },
    {
      "cell_type": "code",
      "execution_count": null,
      "metadata": {
        "colab": {
          "base_uri": "https://localhost:8080/"
        },
        "id": "xYe_1_xpAqJK",
        "outputId": "91d39484-8d3b-4c88-ada6-a69ae568a3d4"
      },
      "outputs": [
        {
          "output_type": "stream",
          "name": "stdout",
          "text": [
            "5 x 1 = 5\n",
            "5 x 2 = 10\n",
            "5 x 3 = 15\n",
            "5 x 4 = 20\n",
            "5 x 5 = 25\n",
            "5 x 6 = 30\n",
            "5 x 7 = 35\n",
            "5 x 8 = 40\n",
            "5 x 9 = 45\n",
            "5 x 10 = 50\n"
          ]
        }
      ],
      "source": [
        "num = 5\n",
        "for i in range(1, 11):\n",
        " print(num, 'x', i, '=', num*i)"
      ]
    },
    {
      "cell_type": "markdown",
      "source": [
        "Print a list and list comprehension"
      ],
      "metadata": {
        "id": "HfZnjWnoGQ5f"
      }
    },
    {
      "cell_type": "code",
      "source": [
        "a = [1,2,3,4,5]\n",
        "for x in range(len(a)):\n",
        " print(a[x]),\n",
        "a = [1,2,3,4,5]\n",
        "a.append(6)\n",
        "print(a)\n"
      ],
      "metadata": {
        "colab": {
          "base_uri": "https://localhost:8080/"
        },
        "id": "YpSm_mpZCU2_",
        "outputId": "1ee9f5f9-95dd-47d2-c71a-700dc177a9a8"
      },
      "execution_count": null,
      "outputs": [
        {
          "output_type": "stream",
          "name": "stdout",
          "text": [
            "1\n",
            "2\n",
            "3\n",
            "4\n",
            "5\n",
            "[1, 2, 3, 4, 5, 6]\n"
          ]
        }
      ]
    },
    {
      "cell_type": "markdown",
      "source": [
        "Demonstrate tuples"
      ],
      "metadata": {
        "id": "3i18wsSnGY-2"
      }
    },
    {
      "cell_type": "code",
      "source": [
        "number = [2,4,6,8,10]\n",
        "print(number)"
      ],
      "metadata": {
        "colab": {
          "base_uri": "https://localhost:8080/"
        },
        "id": "e3xlEKonGgu_",
        "outputId": "a876bc5d-4496-498c-f14f-84b8844f17ea"
      },
      "execution_count": null,
      "outputs": [
        {
          "output_type": "stream",
          "name": "stdout",
          "text": [
            "[2, 4, 6, 8, 10]\n"
          ]
        }
      ]
    },
    {
      "cell_type": "markdown",
      "source": [
        "String"
      ],
      "metadata": {
        "id": "ftTHztQKHq-X"
      }
    },
    {
      "cell_type": "code",
      "source": [
        "name = \"sanju\"\n",
        "print(name)"
      ],
      "metadata": {
        "colab": {
          "base_uri": "https://localhost:8080/"
        },
        "id": "uTRzLEQPH2u-",
        "outputId": "2270a111-a7fd-4c06-fab6-258c8e71b72a"
      },
      "execution_count": null,
      "outputs": [
        {
          "output_type": "stream",
          "name": "stdout",
          "text": [
            "sanju\n"
          ]
        }
      ]
    }
  ]
}